{
 "cells": [
  {
   "cell_type": "code",
   "execution_count": 7,
   "id": "eeef09fb-7e58-4e24-a127-8cbd5dffdf75",
   "metadata": {},
   "outputs": [
    {
     "name": "stdout",
     "output_type": "stream",
     "text": [
      "['Machine learning is amazing.', 'Deep learning and neural networks are powerful.', 'AI and machine learning are transforming the world.', 'Text preprocessing is essential for NLP.', 'Scikit-learn provides tools for text vectorization.']\n"
     ]
    }
   ],
   "source": [
    "from sklearn.feature_extraction.text import CountVectorizer, TfidfVectorizer\n",
    "import pandas as pd\n",
    "\n",
    "documents = [\n",
    "    \"Machine learning is amazing.\",\n",
    "    \"Deep learning and neural networks are powerful.\",\n",
    "    \"AI and machine learning are transforming the world.\",\n",
    "    \"Text preprocessing is essential for NLP.\",\n",
    "    \"Scikit-learn provides tools for text vectorization.\"\n",
    "]\n",
    "\n",
    "print(documents)"
   ]
  },
  {
   "cell_type": "code",
   "execution_count": 9,
   "id": "c437e86b-4545-4efc-a283-f4fae018d89d",
   "metadata": {},
   "outputs": [],
   "source": [
    "count_vectorizer = CountVectorizer()\n",
    "count_matrix = count_vectorizer.fit_transform(documents)"
   ]
  },
  {
   "cell_type": "code",
   "execution_count": 11,
   "id": "58a54d45-0fdf-435b-b934-190e6700d88f",
   "metadata": {},
   "outputs": [
    {
     "name": "stdout",
     "output_type": "stream",
     "text": [
      " CountVectorizer Output (Word Frequency Matrix):\n",
      "\n",
      "   ai  amazing  and  are  deep  essential  for  is  learn  learning  ...  \\\n",
      "0   0        1    0    0     0          0    0   1      0         1  ...   \n",
      "1   0        0    1    1     1          0    0   0      0         1  ...   \n",
      "2   1        0    1    1     0          0    0   0      0         1  ...   \n",
      "3   0        0    0    0     0          1    1   1      0         0  ...   \n",
      "4   0        0    0    0     0          0    1   0      1         0  ...   \n",
      "\n",
      "   powerful  preprocessing  provides  scikit  text  the  tools  transforming  \\\n",
      "0         0              0         0       0     0    0      0             0   \n",
      "1         1              0         0       0     0    0      0             0   \n",
      "2         0              0         0       0     0    1      0             1   \n",
      "3         0              1         0       0     1    0      0             0   \n",
      "4         0              0         1       1     1    0      1             0   \n",
      "\n",
      "   vectorization  world  \n",
      "0              0      0  \n",
      "1              0      0  \n",
      "2              0      1  \n",
      "3              0      0  \n",
      "4              1      0  \n",
      "\n",
      "[5 rows x 24 columns]\n"
     ]
    }
   ],
   "source": [
    "count_df = pd.DataFrame(count_matrix.toarray(), columns=count_vectorizer.get_feature_names_out())\n",
    "\n",
    "print(\" CountVectorizer Output (Word Frequency Matrix):\\n\")\n",
    "print(count_df)"
   ]
  },
  {
   "cell_type": "code",
   "execution_count": 13,
   "id": "09a66101-41e2-4240-b75b-599072e0e4c8",
   "metadata": {},
   "outputs": [],
   "source": [
    "tfidf_vectorizer = TfidfVectorizer()\n",
    "tfidf_matrix = tfidf_vectorizer.fit_transform(documents)"
   ]
  },
  {
   "cell_type": "code",
   "execution_count": 15,
   "id": "44ae55cf-07e6-4fcc-961c-00def414a0a2",
   "metadata": {},
   "outputs": [
    {
     "name": "stdout",
     "output_type": "stream",
     "text": [
      "\n",
      " TfidfVectorizer Output (TF-IDF Matrix):\n",
      "\n",
      "         ai   amazing       and       are      deep  essential       for  \\\n",
      "0  0.000000  0.602985  0.000000  0.000000  0.000000   0.000000  0.000000   \n",
      "1  0.000000  0.000000  0.336446  0.336446  0.417016   0.000000  0.000000   \n",
      "2  0.395246  0.000000  0.318882  0.318882  0.000000   0.000000  0.000000   \n",
      "3  0.000000  0.000000  0.000000  0.000000  0.000000   0.449342  0.362526   \n",
      "4  0.000000  0.000000  0.000000  0.000000  0.000000   0.000000  0.321388   \n",
      "\n",
      "         is     learn  learning  ...  powerful  preprocessing  provides  \\\n",
      "0  0.486484  0.000000  0.403826  ...  0.000000       0.000000  0.000000   \n",
      "1  0.000000  0.000000  0.279281  ...  0.417016       0.000000  0.000000   \n",
      "2  0.000000  0.000000  0.264701  ...  0.000000       0.000000  0.000000   \n",
      "3  0.362526  0.000000  0.000000  ...  0.000000       0.449342  0.000000   \n",
      "4  0.000000  0.398352  0.000000  ...  0.000000       0.000000  0.398352   \n",
      "\n",
      "     scikit      text       the     tools  transforming  vectorization  \\\n",
      "0  0.000000  0.000000  0.000000  0.000000      0.000000       0.000000   \n",
      "1  0.000000  0.000000  0.000000  0.000000      0.000000       0.000000   \n",
      "2  0.000000  0.000000  0.395246  0.000000      0.395246       0.000000   \n",
      "3  0.000000  0.362526  0.000000  0.000000      0.000000       0.000000   \n",
      "4  0.398352  0.321388  0.000000  0.398352      0.000000       0.398352   \n",
      "\n",
      "      world  \n",
      "0  0.000000  \n",
      "1  0.000000  \n",
      "2  0.395246  \n",
      "3  0.000000  \n",
      "4  0.000000  \n",
      "\n",
      "[5 rows x 24 columns]\n"
     ]
    }
   ],
   "source": [
    "tfidf_df = pd.DataFrame(tfidf_matrix.toarray(), columns=tfidf_vectorizer.get_feature_names_out())\n",
    "\n",
    "print(\"\\n TfidfVectorizer Output (TF-IDF Matrix):\\n\")\n",
    "print(tfidf_df)"
   ]
  },
  {
   "cell_type": "code",
   "execution_count": null,
   "id": "43765067-fdb6-45dc-9d3a-6cff1544c498",
   "metadata": {},
   "outputs": [],
   "source": []
  }
 ],
 "metadata": {
  "kernelspec": {
   "display_name": "Python 3 (ipykernel)",
   "language": "python",
   "name": "python3"
  },
  "language_info": {
   "codemirror_mode": {
    "name": "ipython",
    "version": 3
   },
   "file_extension": ".py",
   "mimetype": "text/x-python",
   "name": "python",
   "nbconvert_exporter": "python",
   "pygments_lexer": "ipython3",
   "version": "3.12.4"
  }
 },
 "nbformat": 4,
 "nbformat_minor": 5
}
